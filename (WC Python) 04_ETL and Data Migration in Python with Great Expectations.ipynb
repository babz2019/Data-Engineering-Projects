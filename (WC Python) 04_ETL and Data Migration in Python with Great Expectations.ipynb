{
 "cells": [
  {
   "cell_type": "markdown",
   "id": "18b4af0a",
   "metadata": {},
   "source": [
    "### Connecting to MySQL and downloading the Songs Table to Python"
   ]
  },
  {
   "cell_type": "code",
   "execution_count": null,
   "id": "83e61cb5",
   "metadata": {},
   "outputs": [],
   "source": [
    "!pip freeze"
   ]
  },
  {
   "cell_type": "markdown",
   "id": "de9744d9-ce39-4836-b594-a2bc9fc534bf",
   "metadata": {},
   "source": [
    "### First task: Ensure you have downloaded and run the below sql file in MySQL\n",
    "### 07_(WC SQL) raw_Python_MySQL_songs_record_tasks.sql"
   ]
  },
  {
   "cell_type": "markdown",
   "id": "69d3fc0f",
   "metadata": {},
   "source": []
  },
  {
   "cell_type": "code",
   "execution_count": null,
   "id": "b0f30fbc",
   "metadata": {},
   "outputs": [],
   "source": [
    "#Install the mysql module\n",
    "!pip install sqlalchemy\n",
    "!pip install mysql-connector-python\n",
    "!pip install mysqlclient\n",
    "!pip install PyMySQL\n",
    "\n",
    "#Install the Postgresql module\n",
    "!pip install psycopg2"
   ]
  },
  {
   "cell_type": "code",
   "execution_count": null,
   "id": "1793044b",
   "metadata": {},
   "outputs": [],
   "source": [
    "# Installing the great_expectations module for data quality checks\n",
    "!pip install great_expectations"
   ]
  },
  {
   "cell_type": "code",
   "execution_count": null,
   "id": "012a3bf1-334a-4781-b0a9-3fad6b7f08e4",
   "metadata": {},
   "outputs": [],
   "source": []
  },
  {
   "cell_type": "code",
   "execution_count": null,
   "id": "4f35159c",
   "metadata": {},
   "outputs": [],
   "source": [
    "import mysql.connector as dbconnect\n",
    "import mysql.connector as mysqlconnector\n",
    "from sqlalchemy import create_engine\n",
    "import pandas as pd"
   ]
  },
  {
   "cell_type": "code",
   "execution_count": null,
   "id": "87bd11e4",
   "metadata": {},
   "outputs": [],
   "source": []
  },
  {
   "cell_type": "code",
   "execution_count": null,
   "id": "6b28744c",
   "metadata": {},
   "outputs": [],
   "source": [
    "# Masking my Password\n",
    "import getpass\n",
    "\n",
    "# Prompt the user for a password\n",
    "password = getpass.getpass(\"Enter your password: \")"
   ]
  },
  {
   "cell_type": "code",
   "execution_count": null,
   "id": "9c7a6f60",
   "metadata": {},
   "outputs": [],
   "source": [
    "# Connecting to MySQL database normally. (Not advisable again)\n",
    "db_setup = dbconnect.connect(host='localhost',\n",
    "                             database='Py_SONGS_Db',\n",
    "                            user='root',\n",
    "                             passwd=password)"
   ]
  },
  {
   "cell_type": "code",
   "execution_count": null,
   "id": "0ff0ee91-c3ce-4461-ae20-b253f61b12cc",
   "metadata": {},
   "outputs": [],
   "source": [
    "# Ensure the database name is: Py_SONGS_Db\n",
    "# Ensure the table name is: raw_Py_Songs_tb\n",
    "\n",
    "query = '''\n",
    "SELECT *\n",
    "FROM raw_Py_Songs_tb;\n",
    "'''"
   ]
  },
  {
   "cell_type": "code",
   "execution_count": null,
   "id": "07a60ddc-a7fd-4c8c-9faf-d427117d2d63",
   "metadata": {},
   "outputs": [],
   "source": [
    "# Executing the sql query using the mysql_engine created\n",
    "mysql_df = pd.read_sql(query,db_setup)\n",
    "mysql_df"
   ]
  },
  {
   "cell_type": "code",
   "execution_count": null,
   "id": "4b685dde-b3a5-4c64-a826-ab5d8a0db902",
   "metadata": {},
   "outputs": [],
   "source": [
    "# Close the db_setup connections as it is not advisable\n",
    "db_setup.close()\n",
    "print('MySQL Database connection close successfully')"
   ]
  },
  {
   "cell_type": "code",
   "execution_count": null,
   "id": "5bcd11ac-68d1-41f4-a2ee-a6cf0ea74fdc",
   "metadata": {},
   "outputs": [],
   "source": []
  },
  {
   "cell_type": "code",
   "execution_count": null,
   "id": "061f8c73-67d9-4357-b063-8b779e447d2a",
   "metadata": {},
   "outputs": [],
   "source": [
    "# Creating connection through MySQL + SQLAlcemy"
   ]
  },
  {
   "cell_type": "code",
   "execution_count": null,
   "id": "2724d337-e56a-473b-9db8-2ed22d32b524",
   "metadata": {},
   "outputs": [],
   "source": [
    "hostname=\"localhost\"\n",
    "dbname=\"py_songs_db\"\n",
    "username=\"root\"\n",
    "# you can use \"mysql+pymysql\" or \"mysql+mysqldb\" instead \"mysql+mysqlconnector\"\n",
    "mysql_engine = create_engine(f\"mysql+mysqlconnector://{username}:{password}@{hostname}/{dbname}\",\n",
    "                      pool_recycle=1, pool_timeout=57600).connect()"
   ]
  },
  {
   "cell_type": "code",
   "execution_count": null,
   "id": "73ef027a-088a-46c7-94e8-c68d93d8de30",
   "metadata": {},
   "outputs": [],
   "source": [
    "# Ensure the database name is: Py_SONGS_Db\n",
    "# Ensure the table name is: raw_Py_Songs_tb\n",
    "\n",
    "query = '''\n",
    "SELECT *\n",
    "FROM raw_Py_Songs_tb;\n",
    "'''"
   ]
  },
  {
   "cell_type": "code",
   "execution_count": null,
   "id": "24a6c5cd",
   "metadata": {},
   "outputs": [],
   "source": [
    "#Executing the sql query using the mysql_engine created\n",
    "# Using MySQL + Alchemy works smoothly without warning\n",
    "mysql_df = pd.read_sql(query,mysql_engine)\n",
    "mysql_df"
   ]
  },
  {
   "cell_type": "code",
   "execution_count": null,
   "id": "de1f33ef",
   "metadata": {},
   "outputs": [],
   "source": [
    "# Checking the content datatype of the sql_df\n",
    "mysql_df.info()"
   ]
  },
  {
   "cell_type": "markdown",
   "id": "bf8cc4a1",
   "metadata": {},
   "source": [
    "### Perform the Necessary Data Cleaning and Transformation"
   ]
  },
  {
   "cell_type": "code",
   "execution_count": null,
   "id": "9870f7d5",
   "metadata": {},
   "outputs": [],
   "source": [
    "mysql_df.shape"
   ]
  },
  {
   "cell_type": "code",
   "execution_count": null,
   "id": "e4abe396",
   "metadata": {},
   "outputs": [],
   "source": [
    "# Checking How many rows and columns in the table\n",
    "print(f'The number of rows in the table: {mysql_df.shape[0]}')\n",
    "print(f'The number of columns in the table: {mysql_df.shape[1]}')"
   ]
  },
  {
   "cell_type": "code",
   "execution_count": null,
   "id": "437350e2-428d-4573-a1e8-846f1e8e70df",
   "metadata": {},
   "outputs": [],
   "source": [
    "# Importing great_expectations and validating the values\n",
    "import great_expectations as ge\n",
    "\n",
    "ge_df = ge.from_pandas(mysql_df)"
   ]
  },
  {
   "cell_type": "code",
   "execution_count": null,
   "id": "4a3f4a16-77e2-4497-afe5-bd400de3b749",
   "metadata": {},
   "outputs": [],
   "source": [
    "# Checking the type of data\n",
    "type(ge_df)"
   ]
  },
  {
   "cell_type": "code",
   "execution_count": null,
   "id": "521e35e9-c884-4093-acbe-c196c73297c1",
   "metadata": {},
   "outputs": [],
   "source": []
  },
  {
   "cell_type": "markdown",
   "id": "18356e35-ae58-48e9-a30f-2cacb9cf83d2",
   "metadata": {},
   "source": [
    "# Great Expectation Data Quality Tests"
   ]
  },
  {
   "cell_type": "code",
   "execution_count": null,
   "id": "88545415-32cd-497a-bb83-057021df8135",
   "metadata": {},
   "outputs": [],
   "source": []
  },
  {
   "cell_type": "markdown",
   "id": "c6af0ad7-0304-4977-bd4b-eeea4ad5ddf9",
   "metadata": {},
   "source": [
    "## Links to see all the available functions\n",
    "https://legacy.docs.greatexpectations.io/en/latest/reference/glossary_of_expectations.html"
   ]
  },
  {
   "cell_type": "code",
   "execution_count": null,
   "id": "b14605f0-d802-4313-8c6e-2218d8e03d6f",
   "metadata": {},
   "outputs": [],
   "source": [
    "# Checking if the the columns count to be equal to 8\n",
    "ge_df.expect_table_column_count_to_equal(8)"
   ]
  },
  {
   "cell_type": "code",
   "execution_count": null,
   "id": "fa7ef4ab-fd47-401e-b1c3-47c402336298",
   "metadata": {},
   "outputs": [],
   "source": [
    "# Checking and Testing the Primary Key (song_id)\n",
    "ge_df.expect_column_to_exist('song_id')"
   ]
  },
  {
   "cell_type": "code",
   "execution_count": null,
   "id": "9c010266-d3de-437b-b7c7-8980ecf43eea",
   "metadata": {},
   "outputs": [],
   "source": [
    "# Checking that values in the song_id column is unique\n",
    "ge_df.expect_column_values_to_be_unique('song_id')"
   ]
  },
  {
   "cell_type": "code",
   "execution_count": null,
   "id": "7a0bc5a7-5ab6-44d4-b9b0-a0342710b760",
   "metadata": {},
   "outputs": [],
   "source": [
    "# Checking for null values\n",
    "ge_df.expect_column_values_to_not_be_null('song_id')"
   ]
  },
  {
   "cell_type": "code",
   "execution_count": null,
   "id": "4b61ef0b-dbd4-410b-bdab-01b374d45dc9",
   "metadata": {},
   "outputs": [],
   "source": [
    "# Checking that the year_released column contains valid year\n",
    "ge_df.expect_column_values_to_be_between('year_released',min_value=1800,max_value=2024)"
   ]
  },
  {
   "cell_type": "code",
   "execution_count": null,
   "id": "fdc3c1ad-eca1-491b-8ad2-b3f36b5edc4b",
   "metadata": {},
   "outputs": [],
   "source": [
    "# Checking for the minimum duration to be greater than 1 seconds\n",
    "ge_df.expect_column_min_to_be_between('duration',min_value=1,max_value=500)"
   ]
  },
  {
   "cell_type": "code",
   "execution_count": null,
   "id": "c0cae93d-aa23-4a36-85a1-444a158ba1a9",
   "metadata": {},
   "outputs": [],
   "source": [
    "# Checking for the minimum tempo to be greater than 0 \n",
    "ge_df.expect_column_min_to_be_between('tempo',min_value=0.05,max_value=500)"
   ]
  },
  {
   "cell_type": "code",
   "execution_count": null,
   "id": "57324419-dac3-40aa-9a0d-1549cc40cdd1",
   "metadata": {},
   "outputs": [],
   "source": [
    "# Checking for the maximum loudness to be less than 0 \n",
    "ge_df.expect_column_max_to_be_between('loudness',min_value=-5000,max_value=-0.0005)"
   ]
  },
  {
   "cell_type": "code",
   "execution_count": null,
   "id": "7c5f1722-8960-435e-9f6f-acbd610bd53d",
   "metadata": {},
   "outputs": [],
   "source": [
    "# Creating the expectation suite and data cleaning (Will be skipped)\n",
    "# config = ge_df.get_expectation_suite('songs_data.expectations.json')"
   ]
  },
  {
   "cell_type": "code",
   "execution_count": null,
   "id": "414c8fbc-b716-416e-9f92-94fec3d8b7cf",
   "metadata": {},
   "outputs": [],
   "source": [
    "# Saving your Test cases as json file for re-use\n",
    "ge_df.save_expectation_suite('songs_data.expectations.json',discard_failed_expectations=False)"
   ]
  },
  {
   "cell_type": "code",
   "execution_count": null,
   "id": "37d0973e-ef26-4f04-bfb7-d11886635a4a",
   "metadata": {},
   "outputs": [],
   "source": [
    "# Validating ge_df dataframe to confirm data quality test failed\n",
    "initial_check_results = ge_df.validate(expectation_suite='songs_data.expectations.json')\n",
    "initial_check_results"
   ]
  },
  {
   "cell_type": "code",
   "execution_count": null,
   "id": "f344ce64-6c3c-4160-b2c0-cf3511d3f175",
   "metadata": {},
   "outputs": [],
   "source": []
  },
  {
   "cell_type": "code",
   "execution_count": null,
   "id": "192eb24d",
   "metadata": {},
   "outputs": [],
   "source": [
    "# Checking the number of null/NaN values\n",
    "mysql_df.isnull().sum()"
   ]
  },
  {
   "cell_type": "code",
   "execution_count": null,
   "id": "0ba18a2c",
   "metadata": {},
   "outputs": [],
   "source": [
    "# Extracting the column headers\n",
    "column_list = list(mysql_df.columns) # you can use: mysql_df.columns.tolist()\n",
    "print(f'The column headers: {column_list}')"
   ]
  },
  {
   "cell_type": "code",
   "execution_count": null,
   "id": "9181c776",
   "metadata": {},
   "outputs": [],
   "source": [
    "# Checking the unique number of years\n",
    "mysql_df['year_released'].unique()"
   ]
  },
  {
   "cell_type": "code",
   "execution_count": null,
   "id": "0ee30734",
   "metadata": {},
   "outputs": [],
   "source": [
    "# Checking how many records with year = 0\n",
    "\n",
    "# Setting the condition\n",
    "invalid_yr = mysql_df['year_released']==0\n",
    "\n",
    "# Counting the year based on the condition\n",
    "mysql_df['year_released'][invalid_yr].count()"
   ]
  },
  {
   "cell_type": "code",
   "execution_count": null,
   "id": "f189be7b",
   "metadata": {},
   "outputs": [],
   "source": [
    "# Extracting the first 5 records of invalid year\n",
    "mysql_df[['song_id', 'title', 'artist', 'album', 'year_released']][invalid_yr].head()"
   ]
  },
  {
   "cell_type": "code",
   "execution_count": null,
   "id": "7ed2ba25",
   "metadata": {},
   "outputs": [],
   "source": [
    "# Deleting the records with invalid year value\n",
    "mysql_df.drop(mysql_df[invalid_yr].index, inplace=True)\n",
    "\n",
    "# Confirming the deletion\n",
    "mysql_df['year_released'][invalid_yr].count()"
   ]
  },
  {
   "cell_type": "code",
   "execution_count": null,
   "id": "f9669724",
   "metadata": {},
   "outputs": [],
   "source": []
  },
  {
   "cell_type": "code",
   "execution_count": null,
   "id": "5e074f58",
   "metadata": {},
   "outputs": [],
   "source": [
    "# Checking for invalid value of tempos\n",
    "print(f\"Minimum value for tempos: {mysql_df['tempo'].min()}\") \n",
    "print(f\"Maximum value for tempos: {mysql_df['tempo'].max()}\") "
   ]
  },
  {
   "cell_type": "code",
   "execution_count": null,
   "id": "8107b1b5",
   "metadata": {},
   "outputs": [],
   "source": [
    "# Checking how many records with tempo <= 0\n",
    "\n",
    "# Setting the condition\n",
    "invalid_tempo = mysql_df['tempo']<=0\n",
    "\n",
    "# Counting the year based on the condition\n",
    "mysql_df['tempo'][invalid_tempo].count()"
   ]
  },
  {
   "cell_type": "code",
   "execution_count": null,
   "id": "947b7b7a",
   "metadata": {},
   "outputs": [],
   "source": [
    "# Extracting the first 5 records of invalid tempos\n",
    "mysql_df[['song_id', 'title', 'artist', 'album', 'tempo']][invalid_tempo].head()"
   ]
  },
  {
   "cell_type": "code",
   "execution_count": null,
   "id": "e9102a4b",
   "metadata": {},
   "outputs": [],
   "source": [
    "# Deleting the records with invalid tempo values\n",
    "mysql_df.drop(mysql_df[invalid_tempo].index, inplace=True)\n",
    "\n",
    "# Confirming the deletion\n",
    "mysql_df['tempo'][invalid_tempo].count()"
   ]
  },
  {
   "cell_type": "code",
   "execution_count": null,
   "id": "c7fbfdf0",
   "metadata": {},
   "outputs": [],
   "source": []
  },
  {
   "cell_type": "code",
   "execution_count": null,
   "id": "a3223e96",
   "metadata": {},
   "outputs": [],
   "source": [
    "# Checking for invalid values of loudness\n",
    "print(f\"Minimum value for loudness: {mysql_df['loudness'].min()}\") \n",
    "print(f\"Maximum value for loudness: {mysql_df['loudness'].max()}\") "
   ]
  },
  {
   "cell_type": "code",
   "execution_count": null,
   "id": "7b07b418",
   "metadata": {},
   "outputs": [],
   "source": [
    "# Checking how many records with loudness >= 0\n",
    "\n",
    "# Setting the condition\n",
    "invalid_loudness = mysql_df['loudness']>=0\n",
    "\n",
    "# Counting the year based on the condition\n",
    "mysql_df['loudness'][invalid_loudness].count()"
   ]
  },
  {
   "cell_type": "code",
   "execution_count": null,
   "id": "2bd222bd",
   "metadata": {},
   "outputs": [],
   "source": [
    "# Extracting the first 5 records of invalid tempos\n",
    "mysql_df[['song_id', 'title', 'artist', 'album', 'loudness']][invalid_loudness].head()"
   ]
  },
  {
   "cell_type": "code",
   "execution_count": null,
   "id": "8753265b",
   "metadata": {},
   "outputs": [],
   "source": [
    "# Deleting the records with invalid year value\n",
    "mysql_df.drop(mysql_df[invalid_loudness].index, inplace=True)\n",
    "\n",
    "# Confirming the deletion\n",
    "mysql_df['loudness'][invalid_loudness].count()"
   ]
  },
  {
   "cell_type": "code",
   "execution_count": null,
   "id": "d3bb0c45",
   "metadata": {},
   "outputs": [],
   "source": [
    "# Checking for accurate data in the dataframe\n",
    "mysql_df.describe()"
   ]
  },
  {
   "cell_type": "code",
   "execution_count": null,
   "id": "2b088880",
   "metadata": {},
   "outputs": [],
   "source": [
    "# checking for the datatypes of each columns\n",
    "mysql_df.info()"
   ]
  },
  {
   "cell_type": "code",
   "execution_count": null,
   "id": "a2e31612",
   "metadata": {},
   "outputs": [],
   "source": [
    "# Extracting the column headers\n",
    "column_list = list(mysql_df.columns) # you can use: mysql_df.column.tolist()\n",
    "print(f'The column headers: {column_list}')"
   ]
  },
  {
   "cell_type": "code",
   "execution_count": null,
   "id": "a22e5c3b",
   "metadata": {},
   "outputs": [],
   "source": [
    "# Applying the right datatypes to each columns\n",
    "string_list = ['title', 'artist', 'album']\n",
    "for header in string_list:\n",
    "    mysql_df[header] =  mysql_df[header].astype('string')\n",
    "    \n",
    "integer_list = ['song_id', 'year_released']\n",
    "for header in integer_list:\n",
    "    mysql_df[header] =  mysql_df[header].astype('int16')\n",
    "\n",
    "float_list = ['duration', 'tempo','loudness']\n",
    "for header in float_list:\n",
    "    mysql_df[header] =  mysql_df[header].astype('float16')\n",
    "    \n",
    "mysql_df.info()"
   ]
  },
  {
   "cell_type": "code",
   "execution_count": null,
   "id": "8452ab34",
   "metadata": {},
   "outputs": [],
   "source": []
  },
  {
   "cell_type": "code",
   "execution_count": null,
   "id": "0ad3172d",
   "metadata": {},
   "outputs": [],
   "source": [
    "# Checking the trend of loudness over the years\n",
    "#create a pivot table from dataframe by modifying the below code but using:\n",
    "# index= 'year_released', values = loudness, aggfunc='mean'\n",
    "\n",
    "pd.pivot_table(mysql_df,index='year_released',values='loudness',  aggfunc='mean') "
   ]
  },
  {
   "cell_type": "code",
   "execution_count": null,
   "id": "3f93884f",
   "metadata": {},
   "outputs": [],
   "source": [
    "# Using matplotlib, draw a line graph of the year against the average loudness\n",
    "import matplotlib.pyplot as plt\n",
    "pivot_table = pd.pivot_table(mysql_df,index='year_released',values='loudness',  aggfunc='mean') \n",
    "plt.plot(pivot_table['loudness'],color='green',marker='*',linestyle='-')\n",
    "plt.xlabel('Years')\n",
    "plt.ylabel('Loudness')\n",
    "plt.title('Songs average loudness over the years')"
   ]
  },
  {
   "cell_type": "code",
   "execution_count": null,
   "id": "d298d512",
   "metadata": {},
   "outputs": [],
   "source": []
  },
  {
   "cell_type": "code",
   "execution_count": null,
   "id": "6b384d8b",
   "metadata": {},
   "outputs": [],
   "source": [
    "# Checking the number of clean records in our dataframe\n",
    "mysql_df.shape"
   ]
  },
  {
   "cell_type": "code",
   "execution_count": null,
   "id": "e83dd2f3-ffc7-438a-9af2-bfdba05fa651",
   "metadata": {},
   "outputs": [],
   "source": [
    "# Getting a copy of clean songs data dataframe for great expectation testing\n",
    "clean_mysql_df = mysql_df.copy()"
   ]
  },
  {
   "cell_type": "code",
   "execution_count": null,
   "id": "b339538a-6e54-4f63-9554-7fbad8ce6e72",
   "metadata": {},
   "outputs": [],
   "source": [
    "## Testing the Cleaned Songs Data with configuration suite\n",
    "clean_songs_ge_df = ge.from_pandas(clean_mysql_df)"
   ]
  },
  {
   "cell_type": "code",
   "execution_count": null,
   "id": "559aa48f-d439-478a-a396-cf44ea3cd944",
   "metadata": {},
   "outputs": [],
   "source": [
    "# Creating Test results using our saved configuration json file\n",
    "final_check_results = clean_songs_ge_df.validate(expectation_suite='songs_data.expectations.json')\n",
    "final_check_results"
   ]
  },
  {
   "cell_type": "code",
   "execution_count": null,
   "id": "1eb762be-3a1b-4e3f-909b-83c558da37c8",
   "metadata": {},
   "outputs": [],
   "source": [
    "# Take action based on the results\n",
    "if final_check_results[\"success\"]:\n",
    "    print (\"Awesome. All Data Quality Tests are green!\")\n",
    "else:\n",
    "    raise Exception(\"You've got issues.\")"
   ]
  },
  {
   "cell_type": "code",
   "execution_count": null,
   "id": "5834e611-d8b8-4a0a-831e-b5f848103996",
   "metadata": {},
   "outputs": [],
   "source": []
  },
  {
   "cell_type": "markdown",
   "id": "46842ea3",
   "metadata": {},
   "source": [
    "### Exporting your Cleaned Dataframe into MySQL"
   ]
  },
  {
   "cell_type": "code",
   "execution_count": null,
   "id": "00aa6834",
   "metadata": {},
   "outputs": [],
   "source": [
    "table_name = 'clean_py_songs_tb'\n",
    "hostname=\"localhost\"\n",
    "dbname=\"py_songs_db\"\n",
    "username=\"root\"\n",
    "# you can use \"mysql+pymysql\" or \"mysql+mysqldb\" instead \"mysql+mysqlconnector\"\n",
    "engine = create_engine(f\"mysql+mysqlconnector://{username}:{password}@{hostname}/{dbname}\",\n",
    "                      pool_recycle=1, pool_timeout=57600).connect()\n",
    "mysql_df.to_sql(name=table_name, \n",
    "        con=engine, \n",
    "        if_exists='replace', #there is append, fail\n",
    "        index=False)"
   ]
  },
  {
   "cell_type": "code",
   "execution_count": null,
   "id": "14537509",
   "metadata": {},
   "outputs": [],
   "source": [
    "# Confirming the actual records exported\n",
    "mysql_df.shape[0]"
   ]
  },
  {
   "cell_type": "code",
   "execution_count": null,
   "id": "2df0b88f",
   "metadata": {},
   "outputs": [],
   "source": []
  },
  {
   "cell_type": "code",
   "execution_count": null,
   "id": "bba77548-6a60-4b07-b5e4-810257ac5a24",
   "metadata": {},
   "outputs": [],
   "source": []
  },
  {
   "cell_type": "markdown",
   "id": "1ba2fc8d",
   "metadata": {},
   "source": [
    "## Data Migration part: Export the mysql_df into Postgresql database "
   ]
  },
  {
   "cell_type": "code",
   "execution_count": null,
   "id": "8cc764dc",
   "metadata": {},
   "outputs": [],
   "source": [
    "# Export the mysql_df to PostgreSQL Database (Database name: mysql_pysong_db)\n",
    "# Please ensure the database(mysql_pysong_db) is already created in Postgresql\n",
    "\n",
    "table_name = 'clean_py_songs_tb'"
   ]
  },
  {
   "cell_type": "code",
   "execution_count": null,
   "id": "1a01b3ac",
   "metadata": {},
   "outputs": [],
   "source": [
    "import psycopg2 as pgconnect\n",
    "import pandas as pd"
   ]
  },
  {
   "cell_type": "code",
   "execution_count": null,
   "id": "eaac9e22",
   "metadata": {},
   "outputs": [],
   "source": [
    "# Masking my Password\n",
    "import getpass\n",
    "\n",
    "\n",
    "# Prompt the user for a password\n",
    "passwd = getpass.getpass(\"Enter your password: \")"
   ]
  },
  {
   "cell_type": "code",
   "execution_count": null,
   "id": "886823f1",
   "metadata": {},
   "outputs": [],
   "source": []
  },
  {
   "cell_type": "code",
   "execution_count": null,
   "id": "46fc167c",
   "metadata": {},
   "outputs": [],
   "source": [
    "# to be deleted\n",
    "\n",
    "# Exporting the clean dataframe to PostgreSQL\n",
    "import time\n",
    "\n",
    "row_total = len(mysql_df)\n",
    "start_time = time.time()\n",
    "table_name = 'clean_py_songs_tb'\n",
    "hostname = \"localhost\"\n",
    "dbname = \"mysql_pysong_db\"\n",
    "username = \"postgres\"\n",
    "port = 5432\n",
    "engine = create_engine(f\"postgresql+psycopg2://{username}:{passwd}@{hostname}:{port}/{dbname}\")\n",
    "mysql_df.to_sql(table_name, \n",
    "                 con=engine, \n",
    "                 if_exists=\"replace\", \n",
    "                 index=False)\n",
    "stop_time = time.time()\n",
    "print(f'The query with {row_total} rows took {round(stop_time-start_time)}secs')"
   ]
  },
  {
   "cell_type": "code",
   "execution_count": null,
   "id": "a8e37049",
   "metadata": {},
   "outputs": [],
   "source": []
  },
  {
   "cell_type": "code",
   "execution_count": null,
   "id": "014218d1",
   "metadata": {},
   "outputs": [],
   "source": []
  },
  {
   "cell_type": "markdown",
   "id": "c685b7e0",
   "metadata": {},
   "source": [
    "### Connecting to PostgreSQL and downloading the Transaction Table to Python"
   ]
  },
  {
   "cell_type": "code",
   "execution_count": null,
   "id": "fc5a88ba",
   "metadata": {},
   "outputs": [],
   "source": []
  },
  {
   "cell_type": "markdown",
   "id": "e00fa059",
   "metadata": {},
   "source": [
    "### First task: Ensure you have downloaded and run the below sql file in Postgresql\n",
    "### 08_(WC SQL) raw_Python_PostgreSQL_transaction_record_tasks.sql"
   ]
  },
  {
   "cell_type": "code",
   "execution_count": null,
   "id": "c32086d6",
   "metadata": {},
   "outputs": [],
   "source": []
  },
  {
   "cell_type": "code",
   "execution_count": null,
   "id": "7d42071b",
   "metadata": {},
   "outputs": [],
   "source": [
    "import psycopg2 as pgconnect\n",
    "import pandas as pd"
   ]
  },
  {
   "cell_type": "code",
   "execution_count": null,
   "id": "6f7aca1b",
   "metadata": {},
   "outputs": [],
   "source": []
  },
  {
   "cell_type": "code",
   "execution_count": null,
   "id": "688510ef",
   "metadata": {},
   "outputs": [],
   "source": [
    "# Masking my Password\n",
    "import getpass\n",
    "\n",
    "\n",
    "# Prompt the user for a password\n",
    "passwd = getpass.getpass(\"Enter your password: \")"
   ]
  },
  {
   "cell_type": "code",
   "execution_count": null,
   "id": "8ab1a385",
   "metadata": {},
   "outputs": [],
   "source": [
    "# Connecting to PosgreSQL database normally. (Not advisable again)\n",
    "pg_setup = pgconnect.connect(host='localhost',\n",
    "                            database='Py_largeTransactionDB',\n",
    "                            user='postgres',\n",
    "                            #port=5432\n",
    "                            password=passwd)\n",
    "# uses default port:5432"
   ]
  },
  {
   "cell_type": "code",
   "execution_count": null,
   "id": "0f829e48",
   "metadata": {},
   "outputs": [],
   "source": []
  },
  {
   "cell_type": "code",
   "execution_count": null,
   "id": "719f7b01",
   "metadata": {},
   "outputs": [],
   "source": [
    "# Ensure the database name is: Py_largeTransactionDB\n",
    "# Ensure the table name is: raw_Py_trans_records in your postgresql\n",
    "query = '''\n",
    "SELECT * \n",
    "FROM raw_Py_trans_records;\n",
    "'''"
   ]
  },
  {
   "cell_type": "code",
   "execution_count": null,
   "id": "9a5af9ef",
   "metadata": {},
   "outputs": [],
   "source": [
    "pgsql_df = pd.read_sql(query,pg_setup)\n",
    "pgsql_df.head(5)"
   ]
  },
  {
   "cell_type": "code",
   "execution_count": null,
   "id": "b6fd0cb4",
   "metadata": {},
   "outputs": [],
   "source": [
    "# Close the pg_setup connections as it is not advisable\n",
    "pg_setup.close()\n",
    "print('PostgreSQL Database connection close successfully')"
   ]
  },
  {
   "cell_type": "code",
   "execution_count": null,
   "id": "f28230fb-ab5c-49d9-a539-a1fcbddf35b2",
   "metadata": {},
   "outputs": [],
   "source": []
  },
  {
   "cell_type": "markdown",
   "id": "7b898cad-1e50-4030-83cc-17dd41785619",
   "metadata": {},
   "source": [
    "# ASSIGNMENT"
   ]
  },
  {
   "cell_type": "code",
   "execution_count": null,
   "id": "59147d47-bb94-4091-a233-00934fda3386",
   "metadata": {},
   "outputs": [],
   "source": [
    "# Creating connection through PostgreSQL + SQLAlcemy"
   ]
  },
  {
   "cell_type": "code",
   "execution_count": null,
   "id": "2e9c2b18-a1b2-42ea-970c-98f2c14f77c6",
   "metadata": {},
   "outputs": [],
   "source": [
    "hostname=\"localhost\"\n",
    "dbname=\"Py_largeTransactionDB\"\n",
    "username=\"postgres\"\n",
    "#\n",
    "pgsql_engine = create_engine(f\"postgresql+psycopg2://{username}:{password}@{hostname}/{dbname}\",\n",
    "                      pool_recycle=1, pool_timeout=57600).connect()\n",
    "print('Connection to PostgreSQL was successful')"
   ]
  },
  {
   "cell_type": "code",
   "execution_count": null,
   "id": "c294b0b7-472c-49a5-86b4-04d8271970ab",
   "metadata": {},
   "outputs": [],
   "source": [
    "# Ensure the database name is: Py_largeTransactionDB\n",
    "# Ensure the table name is: raw_Py_trans_records in your postgresql\n",
    "query = '''\n",
    "SELECT * \n",
    "FROM raw_Py_trans_records;\n",
    "'''"
   ]
  },
  {
   "cell_type": "code",
   "execution_count": null,
   "id": "c3d6e953-f43c-4cab-8188-3e293560c895",
   "metadata": {},
   "outputs": [],
   "source": [
    "# Using PostgreSQL + Alchemy works smoothly without warning\n",
    "pgsql_df = pd.read_sql(query,pgsql_engine)\n",
    "pgsql_df.head(5)"
   ]
  },
  {
   "cell_type": "markdown",
   "id": "ba7346b7",
   "metadata": {},
   "source": [
    "## Perform the Necessary Data Cleaning and Transformation"
   ]
  },
  {
   "cell_type": "code",
   "execution_count": null,
   "id": "3540110f",
   "metadata": {},
   "outputs": [],
   "source": []
  },
  {
   "cell_type": "code",
   "execution_count": null,
   "id": "ae8cd67f",
   "metadata": {},
   "outputs": [],
   "source": []
  },
  {
   "cell_type": "code",
   "execution_count": null,
   "id": "669be45b",
   "metadata": {},
   "outputs": [],
   "source": [
    "\n"
   ]
  },
  {
   "cell_type": "code",
   "execution_count": null,
   "id": "fd059189",
   "metadata": {},
   "outputs": [],
   "source": []
  },
  {
   "cell_type": "code",
   "execution_count": null,
   "id": "5f8f1004",
   "metadata": {},
   "outputs": [],
   "source": []
  },
  {
   "cell_type": "code",
   "execution_count": null,
   "id": "1e066ff9",
   "metadata": {},
   "outputs": [],
   "source": []
  },
  {
   "cell_type": "code",
   "execution_count": null,
   "id": "1ce80e33",
   "metadata": {},
   "outputs": [],
   "source": []
  },
  {
   "cell_type": "code",
   "execution_count": null,
   "id": "b1d49c66",
   "metadata": {},
   "outputs": [],
   "source": []
  },
  {
   "cell_type": "markdown",
   "id": "67dade0c",
   "metadata": {},
   "source": [
    "### Exporting your Cleaned Dataframe into PostgreSQL"
   ]
  },
  {
   "cell_type": "code",
   "execution_count": null,
   "id": "ca25ee4d",
   "metadata": {},
   "outputs": [],
   "source": []
  },
  {
   "cell_type": "code",
   "execution_count": null,
   "id": "6eaf1221",
   "metadata": {},
   "outputs": [],
   "source": [
    "# Exporting the clean dataframe by chunking\n",
    "import time\n",
    "\n",
    "row_total = len(pgsql_df)\n",
    "start_time = time.time()\n",
    "table_name = 'clean_Pytransact_records_tb'\n",
    "hostname = \"localhost\"\n",
    "dbname = \"Py_largeTransactionDB\"\n",
    "username = \"postgres\"\n",
    "port = 5432\n",
    "engine = create_engine(f\"postgresql+psycopg2://{username}:{passwd}@{hostname}:{port}/{dbname}\")\n",
    "pgsql_df.to_sql(table_name, \n",
    "                 con=engine, \n",
    "                 if_exists=\"replace\",\n",
    "                 index=False)\n",
    "stop_time = time.time()\n",
    "print(f'The query with {row_total} rows took {round(stop_time-start_time)}secs')"
   ]
  },
  {
   "cell_type": "code",
   "execution_count": null,
   "id": "5579773c",
   "metadata": {},
   "outputs": [],
   "source": []
  },
  {
   "cell_type": "code",
   "execution_count": null,
   "id": "9aae5ef5-81dc-4e0c-aea1-d2766dce119e",
   "metadata": {},
   "outputs": [],
   "source": []
  },
  {
   "cell_type": "markdown",
   "id": "bd636962",
   "metadata": {},
   "source": [
    "## Data Migration part: Export the pgsql_df into Mysql database "
   ]
  },
  {
   "cell_type": "code",
   "execution_count": null,
   "id": "1929625d",
   "metadata": {},
   "outputs": [],
   "source": [
    "# Export the pgsql_df to MySQL Database (Database name: pg_pytransact_record_db)\n",
    "# Please ensure the database(pg_pytransact_record_db) is already created in mysql\n",
    "\n",
    "table_name = 'clean_Pytransact_records_tb'\n",
    "dbname=\"pg_pytransact_record_db\""
   ]
  },
  {
   "cell_type": "code",
   "execution_count": null,
   "id": "3c7dd7e7",
   "metadata": {},
   "outputs": [],
   "source": [
    "import time\n",
    "\n",
    "row_total = len(pgsql_df)\n",
    "hostname=\"localhost\"\n",
    "username=\"root\"\n",
    "# you can use \"mysql+pymysql\" or \"mysql+mysqldb\" instead \"mysql+mysqlconnector\"\n",
    "engine = create_engine(f\"mysql+mysqlconnector://{username}:{password}@{hostname}/{dbname}\",\n",
    "                      pool_recycle=1, pool_timeout=57600)\n",
    "pgsql_df.to_sql(name=table_name, \n",
    "        con=engine, \n",
    "        if_exists='append',\n",
    "        chunksize = 100_000,\n",
    "        index=False)"
   ]
  },
  {
   "cell_type": "code",
   "execution_count": null,
   "id": "7ab94bd4",
   "metadata": {},
   "outputs": [],
   "source": []
  },
  {
   "cell_type": "code",
   "execution_count": null,
   "id": "a2160ece-4e18-4355-93bd-c05a156f93fd",
   "metadata": {},
   "outputs": [],
   "source": [
    "# ASSIGNMENT 2"
   ]
  },
  {
   "cell_type": "markdown",
   "id": "005f21f1-1a73-46c6-8a8c-86cef3d855a8",
   "metadata": {},
   "source": [
    "### There is a valuable module in Python called great_expectations. Read about the module in the link below:\n",
    "### https://medium.com/hashmapinc/understanding-great-expectations-and-how-to-use-it-7754c78962f4\n",
    "\n",
    "### Use the great_expectation module to clean and validate the transaction records data after using the PostgreSQL + SQLAlchemy connection to import it as done in the example above"
   ]
  },
  {
   "cell_type": "code",
   "execution_count": null,
   "id": "a53b700e",
   "metadata": {},
   "outputs": [],
   "source": []
  },
  {
   "cell_type": "code",
   "execution_count": null,
   "id": "bcd90b60-fd8c-4b20-bf2d-05fea98ad975",
   "metadata": {},
   "outputs": [],
   "source": []
  },
  {
   "cell_type": "code",
   "execution_count": null,
   "id": "aee6dc02-8866-479d-a77b-94b2a98f40c5",
   "metadata": {},
   "outputs": [],
   "source": []
  },
  {
   "cell_type": "code",
   "execution_count": null,
   "id": "fe3bfee1-1e80-4386-bddd-bd5d6db5f0c6",
   "metadata": {},
   "outputs": [],
   "source": []
  },
  {
   "cell_type": "code",
   "execution_count": null,
   "id": "2533f219-a85c-4587-b7ce-4273ff794d78",
   "metadata": {},
   "outputs": [],
   "source": []
  },
  {
   "cell_type": "code",
   "execution_count": null,
   "id": "dd82f0eb",
   "metadata": {},
   "outputs": [],
   "source": []
  },
  {
   "cell_type": "code",
   "execution_count": null,
   "id": "4c986171",
   "metadata": {},
   "outputs": [],
   "source": []
  },
  {
   "cell_type": "code",
   "execution_count": null,
   "id": "71e89bec",
   "metadata": {},
   "outputs": [],
   "source": []
  },
  {
   "cell_type": "code",
   "execution_count": null,
   "id": "5908d664",
   "metadata": {},
   "outputs": [],
   "source": []
  },
  {
   "cell_type": "markdown",
   "id": "2802296c",
   "metadata": {},
   "source": [
    "### Working with Oracle"
   ]
  },
  {
   "cell_type": "code",
   "execution_count": null,
   "id": "01414afa",
   "metadata": {},
   "outputs": [],
   "source": [
    "# Installing Oracle Software\n",
    "!pip install cx_Oracle"
   ]
  },
  {
   "cell_type": "code",
   "execution_count": null,
   "id": "1a030cda",
   "metadata": {},
   "outputs": [],
   "source": [
    "# Import oracle\n",
    "import cx_Oracle"
   ]
  },
  {
   "cell_type": "code",
   "execution_count": null,
   "id": "a685b257",
   "metadata": {},
   "outputs": [],
   "source": [
    "# Masking my Password\n",
    "import getpass\n",
    "\n",
    "# Prompt the user for a password\n",
    "password = getpass.getpass(\"Enter your password: \")\n",
    "conn = cx_Oracle.connect(\"system/\"+password+\"@localhost:1521/XE\")\n",
    "print(\"Connection created successfully\")"
   ]
  },
  {
   "cell_type": "code",
   "execution_count": null,
   "id": "f2ecb1ef",
   "metadata": {},
   "outputs": [],
   "source": []
  },
  {
   "cell_type": "code",
   "execution_count": null,
   "id": "b34b9baf",
   "metadata": {},
   "outputs": [],
   "source": []
  },
  {
   "cell_type": "code",
   "execution_count": null,
   "id": "bb7addcc",
   "metadata": {},
   "outputs": [],
   "source": [
    "# Connecting to SQL Server"
   ]
  },
  {
   "cell_type": "code",
   "execution_count": null,
   "id": "89a5382c",
   "metadata": {},
   "outputs": [],
   "source": [
    "# Install the the pyodbc module\n",
    "!pip install pyodbc"
   ]
  },
  {
   "cell_type": "code",
   "execution_count": null,
   "id": "a148b79c",
   "metadata": {},
   "outputs": [],
   "source": [
    "# Import libraries\n",
    "import pyodbc\n",
    "import pandas as pd"
   ]
  },
  {
   "cell_type": "code",
   "execution_count": null,
   "id": "89775225",
   "metadata": {},
   "outputs": [],
   "source": [
    "pyodbc.drivers()"
   ]
  },
  {
   "cell_type": "code",
   "execution_count": null,
   "id": "2b2ba24f",
   "metadata": {},
   "outputs": [],
   "source": []
  },
  {
   "cell_type": "code",
   "execution_count": null,
   "id": "6d711b06",
   "metadata": {},
   "outputs": [],
   "source": [
    "import time\n",
    "cursor = pg_setup.cursor()\n",
    "row_total = len(pgsql_df)\n",
    "\n",
    "#Generating a Big Query\n",
    "\n",
    "for i in pgsql_df.index:\n",
    "    sql = \"\"\"INSERT INTO \n",
    "            clean_Python_transaction_records(user_id, event_time, order_id, product_id,  \n",
    "                                            category_id, category_code, brand, price) \n",
    "                                            VALUES (%s, %s, %s, %s, %s, %s, %s, %s)\"\"\"\n",
    "    values = (str(pgsql_df['user_id'][i]),str(pgsql_df['event_time'][i]),str(pgsql_df['order_id'][i]), \n",
    "    str(pgsql_df['product_id'][i]),str(pgsql_df['category_id'][i]),str(pgsql_df['category_code'][i]), \n",
    "    str(pgsql_df['brand'][i]),str(pgsql_df['price'][i]))\n",
    "# big_query = big_query.strip(',')+';' # replace trailing ',' with ';'\n",
    "\n",
    "start_time = time.time()\n",
    "cursor.execute(sql, values)\n",
    "pg_setup.commit()\n",
    "stop_time = time.time()\n",
    "print(f'The query with {row_total} rows took {stop_time-start_time}')\n",
    "      \n",
    "# closing the cursor and database connection\n",
    "cursor.close()\n",
    "pg_setup.close()"
   ]
  },
  {
   "cell_type": "code",
   "execution_count": null,
   "id": "2ecff89a",
   "metadata": {},
   "outputs": [],
   "source": []
  },
  {
   "cell_type": "code",
   "execution_count": null,
   "id": "18ad03fd",
   "metadata": {},
   "outputs": [],
   "source": []
  },
  {
   "cell_type": "code",
   "execution_count": null,
   "id": "34e6cc99",
   "metadata": {},
   "outputs": [],
   "source": []
  }
 ],
 "metadata": {
  "kernelspec": {
   "display_name": "myenv_dscience",
   "language": "python",
   "name": "myenv_dscience"
  },
  "language_info": {
   "codemirror_mode": {
    "name": "ipython",
    "version": 3
   },
   "file_extension": ".py",
   "mimetype": "text/x-python",
   "name": "python",
   "nbconvert_exporter": "python",
   "pygments_lexer": "ipython3",
   "version": "3.11.8"
  }
 },
 "nbformat": 4,
 "nbformat_minor": 5
}
